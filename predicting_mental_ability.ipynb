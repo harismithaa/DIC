{
 "cells": [
  {
   "cell_type": "code",
   "execution_count": 1,
   "metadata": {},
   "outputs": [],
   "source": [
    "#prediction of mental ability - using formula\n",
    "import pandas as pd\n",
    "import numpy as np\n",
    "import matplotlib.pyplot as plt\n",
    "import math\n",
    "\n",
    "def correlationcoeff(x,y,n):\n",
    "    xsum=0\n",
    "    ysum=0\n",
    "    xysum=0\n",
    "    xsquaresum=0\n",
    "    ysquaresum=0\n",
    "    i=0\n",
    "    while i<n:\n",
    "        xsum=xsum+x[i]\n",
    "        ysum=ysum+y[i]\n",
    "        xysum=xysum+x[i]*y[i]\n",
    "        xsquaresum=xsquaresum+x[i]*x[i]\n",
    "        ysquaresum=ysquaresum+y[i]*y[i]\n",
    "        i=i+1\n",
    "    #formula for correlation\n",
    "    corr = (float)(n*xysum - xsum*ysum)/(float)(math.sqrt((n*xsquaresum-xsum*xsum)*(n*ysquaresum-ysum*ysum)))\n",
    "    return corr "
   ]
  },
  {
   "cell_type": "code",
   "execution_count": 2,
   "metadata": {},
   "outputs": [],
   "source": [
    "#Loading the dataset\n",
    "data = pd.read_csv('D:\\ME Cse\\PYTHON\\mentalability.csv')"
   ]
  },
  {
   "cell_type": "code",
   "execution_count": 11,
   "metadata": {},
   "outputs": [],
   "source": [
    "data2 =data['NewScore(Score+21)'].tolist()"
   ]
  },
  {
   "cell_type": "code",
   "execution_count": 12,
   "metadata": {},
   "outputs": [],
   "source": [
    "data1 = data['Age  (x)'].tolist()"
   ]
  },
  {
   "cell_type": "code",
   "execution_count": 13,
   "metadata": {},
   "outputs": [],
   "source": [
    "n=len(data1)"
   ]
  },
  {
   "cell_type": "code",
   "execution_count": 14,
   "metadata": {},
   "outputs": [
    {
     "name": "stdout",
     "output_type": "stream",
     "text": [
      "Correlation r :-0.597330121\n"
     ]
    }
   ],
   "source": [
    "#calculation of correlation\n",
    "print('Correlation r :%.9f' %correlationcoeff(data1,data2,n))"
   ]
  },
  {
   "cell_type": "code",
   "execution_count": 16,
   "metadata": {},
   "outputs": [
    {
     "data": {
      "text/plain": [
       "<matplotlib.axes._subplots.AxesSubplot at 0x1b1742552c8>"
      ]
     },
     "execution_count": 16,
     "metadata": {},
     "output_type": "execute_result"
    },
    {
     "data": {
      "image/png": "[encoded data removed]",
      "text/plain": [
       "<Figure size 432x288 with 1 Axes>"
      ]
     },
     "metadata": {
      "needs_background": "light"
     },
     "output_type": "display_data"
    }
   ],
   "source": [
    "#scatter plot age vs newscore\n",
    "data.plot(kind='scatter',x='Age  (x)',y='NewScore(Score+21)')"
   ]
  },
  {
   "cell_type": "code",
   "execution_count": 18,
   "metadata": {},
   "outputs": [
    {
     "name": "stdout",
     "output_type": "stream",
     "text": [
      "Pearson Correlation  :-0.597330\n",
      "spearman Correlation  :-0.597330\n"
     ]
    }
   ],
   "source": [
    "#predicting mental ability - without using formula\n",
    "\n",
    "from scipy.stats import pearsonr\n",
    "from scipy.stats import spearmanr\n",
    "\n",
    "corrp,_ = pearsonr(data1,data2)\n",
    "corrs,_ = spearmanr(data1,data2)\n",
    "\n",
    "print('Pearson Correlation  :%.6f'% corrp)\n",
    "print('spearman Correlation  :%.6f'% corrp)"
   ]
  },
  {
   "cell_type": "code",
   "execution_count": 19,
   "metadata": {},
   "outputs": [
    {
     "data": {
      "text/html": [
       "<div>\n",
       "<style scoped>\n",
       "    .dataframe tbody tr th:only-of-type {\n",
       "        vertical-align: middle;\n",
       "    }\n",
       "\n",
       "    .dataframe tbody tr th {\n",
       "        vertical-align: top;\n",
       "    }\n",
       "\n",
       "    .dataframe thead th {\n",
       "        text-align: right;\n",
       "    }\n",
       "</style>\n",
       "<table border=\"1\" class=\"dataframe\">\n",
       "  <thead>\n",
       "    <tr style=\"text-align: right;\">\n",
       "      <th></th>\n",
       "      <th>Age  (x)</th>\n",
       "      <th>Score</th>\n",
       "      <th>NewScore(Score+21)</th>\n",
       "    </tr>\n",
       "  </thead>\n",
       "  <tbody>\n",
       "    <tr>\n",
       "      <th>Age  (x)</th>\n",
       "      <td>1.00000</td>\n",
       "      <td>-0.59733</td>\n",
       "      <td>-0.59733</td>\n",
       "    </tr>\n",
       "    <tr>\n",
       "      <th>Score</th>\n",
       "      <td>-0.59733</td>\n",
       "      <td>1.00000</td>\n",
       "      <td>1.00000</td>\n",
       "    </tr>\n",
       "    <tr>\n",
       "      <th>NewScore(Score+21)</th>\n",
       "      <td>-0.59733</td>\n",
       "      <td>1.00000</td>\n",
       "      <td>1.00000</td>\n",
       "    </tr>\n",
       "  </tbody>\n",
       "</table>\n",
       "</div>"
      ],
      "text/plain": [
       "                    Age  (x)    Score  NewScore(Score+21)\n",
       "Age  (x)             1.00000 -0.59733            -0.59733\n",
       "Score               -0.59733  1.00000             1.00000\n",
       "NewScore(Score+21)  -0.59733  1.00000             1.00000"
      ]
     },
     "execution_count": 19,
     "metadata": {},
     "output_type": "execute_result"
    }
   ],
   "source": [
    "data.corr()"
   ]
  },
  {
   "cell_type": "code",
   "execution_count": null,
   "metadata": {},
   "outputs": [],
   "source": []
  }
 ],
 "metadata": {
  "kernelspec": {
   "display_name": "Python 3",
   "language": "python",
   "name": "python3"
  },
  "language_info": {
   "codemirror_mode": {
    "name": "ipython",
    "version": 3
   },
   "file_extension": ".py",
   "mimetype": "text/x-python",
   "name": "python",
   "nbconvert_exporter": "python",
   "pygments_lexer": "ipython3",
   "version": "3.7.7"
  }
 },
 "nbformat": 4,
 "nbformat_minor": 4
}
