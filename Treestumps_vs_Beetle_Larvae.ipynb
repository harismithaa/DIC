{
 "cells": [
  {
   "cell_type": "code",
   "execution_count": 2,
   "metadata": {},
   "outputs": [],
   "source": [
    "#Treestumps vs beetle larvae - using formula\n",
    "import pandas as pd\n",
    "import numpy as np\n",
    "import matplotlib.pyplot as plt\n",
    "import math\n",
    "\n",
    "def correlationcoeff(x,y,n):\n",
    "    xsum=0\n",
    "    ysum=0\n",
    "    xysum=0\n",
    "    xsquaresum=0\n",
    "    ysquaresum=0\n",
    "    i=0\n",
    "    while i<n:\n",
    "        xsum=xsum+x[i]\n",
    "        ysum=ysum+y[i]\n",
    "        xysum=xysum+x[i]*y[i]\n",
    "        xsquaresum=xsquaresum+x[i]*x[i]\n",
    "        ysquaresum=ysquaresum+y[i]*y[i]\n",
    "        i=i+1\n",
    "    #formula for correlation\n",
    "    corr = (float)(n*xysum - xsum*ysum)/(float)(math.sqrt((n*xsquaresum-xsum*xsum)*(n*ysquaresum-ysum*ysum)))\n",
    "    return corr \n"
   ]
  },
  {
   "cell_type": "code",
   "execution_count": 4,
   "metadata": {},
   "outputs": [],
   "source": [
    "data = pd.read_csv('D:\\\\ME Cse\\\\PYTHON\\\\beetlelarvae.csv')"
   ]
  },
  {
   "cell_type": "code",
   "execution_count": 5,
   "metadata": {},
   "outputs": [],
   "source": [
    "data1 = data['Stumps'].tolist()"
   ]
  },
  {
   "cell_type": "code",
   "execution_count": 8,
   "metadata": {},
   "outputs": [],
   "source": [
    "data2 =data['Beetle Larvae '].tolist()"
   ]
  },
  {
   "cell_type": "code",
   "execution_count": 9,
   "metadata": {},
   "outputs": [
    {
     "name": "stdout",
     "output_type": "stream",
     "text": [
      "Correlation r :0.915849845\n"
     ]
    }
   ],
   "source": [
    "n=len(data1)\n",
    "#calculation of correlation\n",
    "print('Correlation r :%.9f' %correlationcoeff(data1,data2,n))"
   ]
  },
  {
   "cell_type": "code",
   "execution_count": 10,
   "metadata": {},
   "outputs": [
    {
     "data": {
      "text/plain": [
       "<matplotlib.axes._subplots.AxesSubplot at 0x19dacd5efc8>"
      ]
     },
     "execution_count": 10,
     "metadata": {},
     "output_type": "execute_result"
    },
    {
     "data": {
      "image/png": "[encoded data removed]",
      "text/plain": [
       "<Figure size 432x288 with 1 Axes>"
      ]
     },
     "metadata": {
      "needs_background": "light"
     },
     "output_type": "display_data"
    }
   ],
   "source": [
    "#scatter plot age vs newscore\n",
    "data.plot(kind='scatter',x='Stumps',y='Beetle Larvae ')"
   ]
  },
  {
   "cell_type": "code",
   "execution_count": 11,
   "metadata": {},
   "outputs": [
    {
     "name": "stdout",
     "output_type": "stream",
     "text": [
      "Pearson Correlation  :0.915850\n",
      "spearman Correlation  :0.915850\n"
     ]
    }
   ],
   "source": [
    "# Treestumps vs beetle larvae- without using formula\n",
    "\n",
    "from scipy.stats import pearsonr\n",
    "from scipy.stats import spearmanr\n",
    "\n",
    "corrp,_ = pearsonr(data1,data2)\n",
    "corrs,_ = spearmanr(data1,data2)\n",
    "\n",
    "print('Pearson Correlation  :%.6f'% corrp)\n",
    "print('spearman Correlation  :%.6f'% corrp)"
   ]
  },
  {
   "cell_type": "code",
   "execution_count": 12,
   "metadata": {},
   "outputs": [
    {
     "data": {
      "text/html": [
       "<div>\n",
       "<style scoped>\n",
       "    .dataframe tbody tr th:only-of-type {\n",
       "        vertical-align: middle;\n",
       "    }\n",
       "\n",
       "    .dataframe tbody tr th {\n",
       "        vertical-align: top;\n",
       "    }\n",
       "\n",
       "    .dataframe thead th {\n",
       "        text-align: right;\n",
       "    }\n",
       "</style>\n",
       "<table border=\"1\" class=\"dataframe\">\n",
       "  <thead>\n",
       "    <tr style=\"text-align: right;\">\n",
       "      <th></th>\n",
       "      <th>Stumps</th>\n",
       "      <th>Beetle Larvae</th>\n",
       "    </tr>\n",
       "  </thead>\n",
       "  <tbody>\n",
       "    <tr>\n",
       "      <th>Stumps</th>\n",
       "      <td>1.00000</td>\n",
       "      <td>0.91585</td>\n",
       "    </tr>\n",
       "    <tr>\n",
       "      <th>Beetle Larvae</th>\n",
       "      <td>0.91585</td>\n",
       "      <td>1.00000</td>\n",
       "    </tr>\n",
       "  </tbody>\n",
       "</table>\n",
       "</div>"
      ],
      "text/plain": [
       "                 Stumps  Beetle Larvae \n",
       "Stumps          1.00000         0.91585\n",
       "Beetle Larvae   0.91585         1.00000"
      ]
     },
     "execution_count": 12,
     "metadata": {},
     "output_type": "execute_result"
    }
   ],
   "source": [
    "#correlation matrix\n",
    "data.corr()"
   ]
  },
  {
   "cell_type": "code",
   "execution_count": null,
   "metadata": {},
   "outputs": [],
   "source": []
  }
 ],
 "metadata": {
  "kernelspec": {
   "display_name": "Python 3",
   "language": "python",
   "name": "python3"
  },
  "language_info": {
   "codemirror_mode": {
    "name": "ipython",
    "version": 3
   },
   "file_extension": ".py",
   "mimetype": "text/x-python",
   "name": "python",
   "nbconvert_exporter": "python",
   "pygments_lexer": "ipython3",
   "version": "3.7.7"
  }
 },
 "nbformat": 4,
 "nbformat_minor": 4
}
