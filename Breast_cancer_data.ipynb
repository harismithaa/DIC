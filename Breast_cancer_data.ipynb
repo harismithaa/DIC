{
 "cells": [
  {
   "cell_type": "code",
   "execution_count": 7,
   "metadata": {},
   "outputs": [
    {
     "name": "stdout",
     "output_type": "stream",
     "text": [
      "correlation , r :-0.742635530\n"
     ]
    }
   ],
   "source": [
    "import pandas as pd\n",
    "import numpy as np\n",
    "import matplotlib.pyplot as plt\n",
    "import math\n",
    "from sklearn.datasets import load_breast_cancer\n",
    "\n",
    "def correlationcoeff(x,y,n):\n",
    "    xsum=0\n",
    "    ysum=0\n",
    "    xysum=0\n",
    "    xsquaresum=0\n",
    "    ysquaresum=0\n",
    "    i=0\n",
    "    while i<n:\n",
    "        xsum=xsum+x[i]\n",
    "        ysum=ysum+y[i]\n",
    "        xysum=xysum+x[i]*y[i]\n",
    "        xsquaresum=xsquaresum+x[i]*x[i]\n",
    "        ysquaresum=ysquaresum+y[i]*y[i]\n",
    "        i=i+1\n",
    "    #formula for correlation\n",
    "    corr = (float)(n*xysum - xsum*ysum)/(float)(math.sqrt((n*xsquaresum-xsum*xsum)*(n*ysquaresum-ysum*ysum)))\n",
    "    return corr \n",
    "#Loading the breast cancer dataset\n",
    "data = load_breast_cancer()\n",
    "\n",
    "#correlation between tumour-size and target\n",
    "data1 = data.data[:,2].tolist()\n",
    "data2 = data.target.tolist()\n",
    "n=len(data1)\n",
    "\n",
    "#correlation\n",
    "print('correlation , r :%.9f' %correlationcoeff(data1,data2,n))"
   ]
  },
  {
   "cell_type": "code",
   "execution_count": 10,
   "metadata": {},
   "outputs": [
    {
     "name": "stdout",
     "output_type": "stream",
     "text": [
      "pearson correlation:-0.742636\n"
     ]
    }
   ],
   "source": [
    "from scipy.stats import pearsonr\n",
    "corr,_ = pearsonr(data1,data2)\n",
    "print('pearson correlation:%.6f'% corr)"
   ]
  },
  {
   "cell_type": "code",
   "execution_count": 11,
   "metadata": {},
   "outputs": [
    {
     "name": "stdout",
     "output_type": "stream",
     "text": [
      "spearman correlation:-0.748496\n"
     ]
    }
   ],
   "source": [
    "from scipy.stats import spearmanr\n",
    "corr,_ = spearmanr(data1,data2)\n",
    "print('spearman correlation:%.6f'% corr)"
   ]
  },
  {
   "cell_type": "code",
   "execution_count": null,
   "metadata": {},
   "outputs": [],
   "source": []
  }
 ],
 "metadata": {
  "kernelspec": {
   "display_name": "Python 3",
   "language": "python",
   "name": "python3"
  },
  "language_info": {
   "codemirror_mode": {
    "name": "ipython",
    "version": 3
   },
   "file_extension": ".py",
   "mimetype": "text/x-python",
   "name": "python",
   "nbconvert_exporter": "python",
   "pygments_lexer": "ipython3",
   "version": "3.7.7"
  }
 },
 "nbformat": 4,
 "nbformat_minor": 4
}
